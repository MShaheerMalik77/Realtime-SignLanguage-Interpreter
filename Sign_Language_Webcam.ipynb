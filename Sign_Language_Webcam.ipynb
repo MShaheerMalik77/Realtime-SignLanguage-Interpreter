{
 "cells": [
  {
   "cell_type": "code",
   "execution_count": 2,
   "id": "54170750-85fd-4aa8-9828-cd7e9fc37b22",
   "metadata": {},
   "outputs": [
    {
     "name": "stdout",
     "output_type": "stream",
     "text": [
      "Requirement already satisfied: torch in c:\\users\\mshah\\appdata\\local\\programs\\python\\python312\\lib\\site-packages (2.7.1)\n",
      "Collecting torchvision\n",
      "  Using cached torchvision-0.22.1-cp312-cp312-win_amd64.whl.metadata (6.1 kB)\n",
      "Requirement already satisfied: opencv-python in c:\\users\\mshah\\appdata\\local\\programs\\python\\python312\\lib\\site-packages (4.11.0.86)\n",
      "Requirement already satisfied: pillow in c:\\users\\mshah\\appdata\\local\\programs\\python\\python312\\lib\\site-packages (10.2.0)\n",
      "Requirement already satisfied: filelock in c:\\users\\mshah\\appdata\\local\\programs\\python\\python312\\lib\\site-packages (from torch) (3.18.0)\n",
      "Requirement already satisfied: typing-extensions>=4.10.0 in c:\\users\\mshah\\appdata\\local\\programs\\python\\python312\\lib\\site-packages (from torch) (4.14.0)\n",
      "Requirement already satisfied: sympy>=1.13.3 in c:\\users\\mshah\\appdata\\local\\programs\\python\\python312\\lib\\site-packages (from torch) (1.14.0)\n",
      "Requirement already satisfied: networkx in c:\\users\\mshah\\appdata\\local\\programs\\python\\python312\\lib\\site-packages (from torch) (3.5)\n",
      "Requirement already satisfied: jinja2 in c:\\users\\mshah\\appdata\\local\\programs\\python\\python312\\lib\\site-packages (from torch) (3.1.6)\n",
      "Requirement already satisfied: fsspec in c:\\users\\mshah\\appdata\\local\\programs\\python\\python312\\lib\\site-packages (from torch) (2025.5.1)\n",
      "Requirement already satisfied: setuptools in c:\\users\\mshah\\appdata\\local\\programs\\python\\python312\\lib\\site-packages (from torch) (80.9.0)\n",
      "Requirement already satisfied: numpy in c:\\users\\mshah\\appdata\\local\\programs\\python\\python312\\lib\\site-packages (from torchvision) (1.26.4)\n",
      "Requirement already satisfied: mpmath<1.4,>=1.1.0 in c:\\users\\mshah\\appdata\\local\\programs\\python\\python312\\lib\\site-packages (from sympy>=1.13.3->torch) (1.3.0)\n",
      "Requirement already satisfied: MarkupSafe>=2.0 in c:\\users\\mshah\\appdata\\local\\programs\\python\\python312\\lib\\site-packages (from jinja2->torch) (3.0.2)\n",
      "Using cached torchvision-0.22.1-cp312-cp312-win_amd64.whl (1.7 MB)\n",
      "Installing collected packages: torchvision\n",
      "Successfully installed torchvision-0.22.1\n",
      "Note: you may need to restart the kernel to use updated packages.\n"
     ]
    }
   ],
   "source": [
    "pip install torch torchvision opencv-python pillow"
   ]
  },
  {
   "cell_type": "code",
   "execution_count": 4,
   "id": "73839416-9567-4107-8ff0-77557a445cd2",
   "metadata": {
    "scrolled": true
   },
   "outputs": [
    {
     "name": "stdout",
     "output_type": "stream",
     "text": [
      "Press 'q' to quit\n"
     ]
    }
   ],
   "source": [
    "import cv2\n",
    "import torch\n",
    "import torch.nn as nn\n",
    "from torchvision import transforms, models\n",
    "from PIL import Image\n",
    "import numpy as np\n",
    "\n",
    "#Define class labels, numbers 0 through 9 and 26 alphabets\n",
    "classes = ['0', '1', '2', '3', '4', '5', '6', '7', '8', '9',\n",
    "           'A', 'B', 'C', 'D', 'E', 'F', 'G', 'H', 'I', 'J',\n",
    "           'K', 'L', 'M', 'N', 'O', 'P', 'Q', 'R', 'S', 'T',\n",
    "           'U', 'V', 'W', 'X', 'Y', 'Z']\n",
    "num_classes = len(classes)\n",
    "\n",
    "#Load model and weights, saved from colab notebook\n",
    "model = models.mobilenet_v2(pretrained=False)\n",
    "model.classifier[1] = nn.Linear(model.last_channel, num_classes)\n",
    "model.load_state_dict(torch.load('best_sign_model2.pth', map_location=torch.device('cpu')))\n",
    "model.eval()\n",
    "\n",
    "#Transformation of images\n",
    "transform = transforms.Compose([\n",
    "    transforms.Resize((224, 224)),\n",
    "    transforms.ToTensor(),\n",
    "    transforms.Normalize([0.485, 0.456, 0.406],  # Standard ImageNet normalization values\n",
    "                         [0.229, 0.224, 0.225])\n",
    "])\n",
    "\n",
    "#Starting webcam\n",
    "cap = cv2.VideoCapture(0)\n",
    "print(\"Press 'q' to quit\")\n",
    "\n",
    "while True:\n",
    "    ret, frame = cap.read()\n",
    "    if not ret:\n",
    "        break\n",
    "    #Box for hand placement\n",
    "    x, y, w, h = 100, 100, 300, 300\n",
    "    roi = frame[y:y+h, x:x+w]\n",
    "\n",
    "    #BGR to RGB\n",
    "    img_rgb = cv2.cvtColor(roi, cv2.COLOR_BGR2RGB)\n",
    "    img_pil = Image.fromarray(img_rgb)\n",
    "\n",
    "    #Apply transformation\n",
    "    input_tensor = transform(img_pil).unsqueeze(0)\n",
    "\n",
    "    #Get prediction from model\n",
    "    with torch.no_grad():\n",
    "        outputs = model(input_tensor)\n",
    "        probs = torch.softmax(outputs, dim=1)\n",
    "        confidence, predicted = torch.max(probs, 1)\n",
    "        label = classes[predicted.item()]\n",
    "        conf_percent = confidence.item() * 100\n",
    "\n",
    "    #Draw box and prediction\n",
    "    cv2.rectangle(frame, (x, y), (x+w, y+h), (0, 255, 0), 2)\n",
    "    cv2.putText(frame, f'{label} ({conf_percent:.1f}%)', (x, y - 10),\n",
    "                cv2.FONT_HERSHEY_SIMPLEX, 1, (0, 255, 0), 2)\n",
    "\n",
    "    #Show the frame\n",
    "    cv2.imshow('Sign Language Interpreter', frame)\n",
    "\n",
    "    #Quit when 'q' is pressed by user\n",
    "    if cv2.waitKey(1) & 0xFF == ord('q'):\n",
    "        break\n",
    "\n",
    "#Cleaning up...\n",
    "cap.release()\n",
    "cv2.destroyAllWindows()\n"
   ]
  },
  {
   "cell_type": "code",
   "execution_count": null,
   "id": "b23ec655-afa8-48a6-991d-2b12c332a1f3",
   "metadata": {},
   "outputs": [],
   "source": []
  }
 ],
 "metadata": {
  "kernelspec": {
   "display_name": "Python 3 (ipykernel)",
   "language": "python",
   "name": "python3"
  },
  "language_info": {
   "codemirror_mode": {
    "name": "ipython",
    "version": 3
   },
   "file_extension": ".py",
   "mimetype": "text/x-python",
   "name": "python",
   "nbconvert_exporter": "python",
   "pygments_lexer": "ipython3",
   "version": "3.12.6"
  }
 },
 "nbformat": 4,
 "nbformat_minor": 5
}
